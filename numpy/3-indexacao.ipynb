{
 "cells": [
  {
   "cell_type": "code",
   "execution_count": 1,
   "id": "3a26909b",
   "metadata": {},
   "outputs": [],
   "source": [
    "import numpy as np"
   ]
  },
  {
   "cell_type": "code",
   "execution_count": 2,
   "id": "b37c8e14",
   "metadata": {},
   "outputs": [
    {
     "name": "stdout",
     "output_type": "stream",
     "text": [
      "2\n",
      "(3, 4)\n"
     ]
    },
    {
     "data": {
      "text/plain": [
       "array([[55, 22, 33, 99],\n",
       "       [77, 88, 99, 88],\n",
       "       [11, 33, 44, 66]])"
      ]
     },
     "execution_count": 2,
     "metadata": {},
     "output_type": "execute_result"
    }
   ],
   "source": [
    "array = np.array([[55,22,33, 99], \n",
    "                  [77,88,99, 88], \n",
    "                  [11,33,44, 66]])\n",
    "\n",
    "print(array.ndim)\n",
    "print(array.shape)\n",
    "array"
   ]
  },
  {
   "cell_type": "code",
   "execution_count": 3,
   "id": "65f71958",
   "metadata": {},
   "outputs": [
    {
     "data": {
      "text/plain": [
       "np.int64(99)"
      ]
     },
     "execution_count": 3,
     "metadata": {},
     "output_type": "execute_result"
    }
   ],
   "source": [
    "# Buscar elemento na linha 1  e coluna 2\n",
    "elemento = array[1,2]\n",
    "elemento\n"
   ]
  },
  {
   "cell_type": "code",
   "execution_count": 7,
   "id": "b6bd7f71",
   "metadata": {},
   "outputs": [
    {
     "data": {
      "text/plain": [
       "array([55, 22, 33, 99])"
      ]
     },
     "execution_count": 7,
     "metadata": {},
     "output_type": "execute_result"
    }
   ],
   "source": [
    "# Pegar dados da primeira linha\n",
    "linha_0 = array[0]\n",
    "linha_0"
   ]
  },
  {
   "cell_type": "code",
   "execution_count": 9,
   "id": "a95bbb38",
   "metadata": {},
   "outputs": [
    {
     "data": {
      "text/plain": [
       "array([22, 88, 33])"
      ]
     },
     "execution_count": 9,
     "metadata": {},
     "output_type": "execute_result"
    }
   ],
   "source": [
    "# Acessando a coluna 1\n",
    "coluna_1 = array[:,1]\n",
    "coluna_1"
   ]
  },
  {
   "cell_type": "code",
   "execution_count": 10,
   "id": "e668bbcc",
   "metadata": {},
   "outputs": [
    {
     "data": {
      "text/plain": [
       "array([[22, 33],\n",
       "       [88, 99]])"
      ]
     },
     "execution_count": 10,
     "metadata": {},
     "output_type": "execute_result"
    }
   ],
   "source": [
    "# Fatiando para obter um subarray\n",
    "subarray = array[0:2, 1:3]\n",
    "subarray"
   ]
  },
  {
   "cell_type": "code",
   "execution_count": 11,
   "id": "920f2838",
   "metadata": {},
   "outputs": [
    {
     "data": {
      "text/plain": [
       "array([[ True, False, False,  True],\n",
       "       [ True,  True,  True,  True],\n",
       "       [False, False, False,  True]])"
      ]
     },
     "execution_count": 11,
     "metadata": {},
     "output_type": "execute_result"
    }
   ],
   "source": [
    "mascara = array > 50\n",
    "mascara"
   ]
  },
  {
   "cell_type": "code",
   "execution_count": 12,
   "id": "dee51ae4",
   "metadata": {},
   "outputs": [
    {
     "data": {
      "text/plain": [
       "array([55, 99, 77, 88, 99, 88, 66])"
      ]
     },
     "execution_count": 12,
     "metadata": {},
     "output_type": "execute_result"
    }
   ],
   "source": [
    "elementos_maiores_que_50 = array[mascara]\n",
    "elementos_maiores_que_50"
   ]
  },
  {
   "cell_type": "code",
   "execution_count": 13,
   "id": "21ce1f09",
   "metadata": {},
   "outputs": [
    {
     "data": {
      "text/plain": [
       "array([[ 55,  22,  33,  99],\n",
       "       [ 77, 175,  99,  88],\n",
       "       [ 11,  33,  44,  66]])"
      ]
     },
     "execution_count": 13,
     "metadata": {},
     "output_type": "execute_result"
    }
   ],
   "source": [
    "array[1,1] = 175\n",
    "array"
   ]
  }
 ],
 "metadata": {
  "kernelspec": {
   "display_name": "numpy-curso-ztycTs4e-py3.13",
   "language": "python",
   "name": "python3"
  },
  "language_info": {
   "codemirror_mode": {
    "name": "ipython",
    "version": 3
   },
   "file_extension": ".py",
   "mimetype": "text/x-python",
   "name": "python",
   "nbconvert_exporter": "python",
   "pygments_lexer": "ipython3",
   "version": "3.13.5"
  }
 },
 "nbformat": 4,
 "nbformat_minor": 5
}
