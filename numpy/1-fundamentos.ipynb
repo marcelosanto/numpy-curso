{
 "cells": [
  {
   "cell_type": "code",
   "execution_count": 9,
   "id": "b116a0a3",
   "metadata": {},
   "outputs": [],
   "source": [
    "import numpy as np"
   ]
  },
  {
   "cell_type": "code",
   "execution_count": 10,
   "id": "8b36e5d2",
   "metadata": {},
   "outputs": [
    {
     "data": {
      "text/plain": [
       "'2.3.1'"
      ]
     },
     "execution_count": 10,
     "metadata": {},
     "output_type": "execute_result"
    }
   ],
   "source": [
    "np.__version__"
   ]
  },
  {
   "cell_type": "code",
   "execution_count": 11,
   "id": "763a74b4",
   "metadata": {},
   "outputs": [],
   "source": [
    "arr = np.array([1,2,3,4,5])"
   ]
  },
  {
   "cell_type": "code",
   "execution_count": 12,
   "id": "d80cdf6a",
   "metadata": {},
   "outputs": [
    {
     "data": {
      "text/plain": [
       "array([1, 2, 3, 4, 5])"
      ]
     },
     "execution_count": 12,
     "metadata": {},
     "output_type": "execute_result"
    }
   ],
   "source": [
    "arr"
   ]
  },
  {
   "cell_type": "code",
   "execution_count": 13,
   "id": "c55e6967",
   "metadata": {},
   "outputs": [
    {
     "data": {
      "text/plain": [
       "numpy.ndarray"
      ]
     },
     "execution_count": 13,
     "metadata": {},
     "output_type": "execute_result"
    }
   ],
   "source": [
    "type(arr)"
   ]
  },
  {
   "cell_type": "code",
   "execution_count": 14,
   "id": "4f3cdbd0",
   "metadata": {},
   "outputs": [
    {
     "name": "stdout",
     "output_type": "stream",
     "text": [
      "Array após somar 10: [11 12 13 14 15]\n"
     ]
    }
   ],
   "source": [
    "soma = arr + 10\n",
    "print(\"Array após somar 10:\", soma)"
   ]
  },
  {
   "cell_type": "code",
   "execution_count": 15,
   "id": "129fde08",
   "metadata": {},
   "outputs": [
    {
     "name": "stdout",
     "output_type": "stream",
     "text": [
      "Array após somar 10: [10 20 30 40 50]\n"
     ]
    }
   ],
   "source": [
    "mult = arr * 10\n",
    "print(\"Array após somar 10:\", mult)"
   ]
  },
  {
   "cell_type": "code",
   "execution_count": 16,
   "id": "12a3e9b1",
   "metadata": {},
   "outputs": [
    {
     "name": "stdout",
     "output_type": "stream",
     "text": [
      "Media do array: 3.0\n"
     ]
    }
   ],
   "source": [
    "media = np.mean(arr)\n",
    "print(\"Media do array:\", media)"
   ]
  }
 ],
 "metadata": {
  "kernelspec": {
   "display_name": "numpy-curso-ztycTs4e-py3.13",
   "language": "python",
   "name": "python3"
  },
  "language_info": {
   "codemirror_mode": {
    "name": "ipython",
    "version": 3
   },
   "file_extension": ".py",
   "mimetype": "text/x-python",
   "name": "python",
   "nbconvert_exporter": "python",
   "pygments_lexer": "ipython3",
   "version": "3.13.5"
  }
 },
 "nbformat": 4,
 "nbformat_minor": 5
}
