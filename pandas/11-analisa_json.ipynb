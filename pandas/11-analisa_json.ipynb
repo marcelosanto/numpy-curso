{
 "cells": [
  {
   "cell_type": "code",
   "execution_count": 1,
   "id": "153afa83",
   "metadata": {},
   "outputs": [],
   "source": [
    "import pandas as pd"
   ]
  },
  {
   "cell_type": "code",
   "execution_count": 2,
   "id": "2415c06f",
   "metadata": {},
   "outputs": [],
   "source": [
    "df = pd.read_json(\"../dados/receitas.json\", encoding=\"utf-8\")"
   ]
  },
  {
   "cell_type": "code",
   "execution_count": 5,
   "id": "620273d5",
   "metadata": {},
   "outputs": [],
   "source": [
    "# Análise Total de Ingredientes por Receita\n",
    "receitas_expandidas = []\n",
    "for receita in df[\"receitas\"]:\n",
    "    total_ingredientes = len(receita['ingredientes'])\n",
    "    receita_info = {\n",
    "        'titulo': receita['titulo'],\n",
    "        'tempo_preparo': receita['tempo_preparo'],\n",
    "        'porcoes': receita['porcoes'],\n",
    "        'total_ingredientes': total_ingredientes\n",
    "    }\n",
    "    receitas_expandidas.append(receita_info)"
   ]
  },
  {
   "cell_type": "code",
   "execution_count": 6,
   "id": "ad86dbf2",
   "metadata": {},
   "outputs": [
    {
     "data": {
      "text/plain": [
       "[{'titulo': 'Bolo de Cenoura com Cobertura de Chocolate',\n",
       "  'tempo_preparo': '1 hora',\n",
       "  'porcoes': 12,\n",
       "  'total_ingredientes': 9},\n",
       " {'titulo': 'Frango Xadrez Simples',\n",
       "  'tempo_preparo': '35 minutos',\n",
       "  'porcoes': 4,\n",
       "  'total_ingredientes': 8},\n",
       " {'titulo': 'Pão de Queijo Mineiro',\n",
       "  'tempo_preparo': '50 minutos',\n",
       "  'porcoes': 20,\n",
       "  'total_ingredientes': 7},\n",
       " {'titulo': 'Lasanha à Bolonhesa',\n",
       "  'tempo_preparo': '1 hora e 30 minutos',\n",
       "  'porcoes': 10,\n",
       "  'total_ingredientes': 8},\n",
       " {'titulo': 'Mousse de Maracujá Rápido',\n",
       "  'tempo_preparo': '15 minutos',\n",
       "  'porcoes': 6,\n",
       "  'total_ingredientes': 3},\n",
       " {'titulo': 'Feijoada Completa',\n",
       "  'tempo_preparo': '3 horas',\n",
       "  'porcoes': 15,\n",
       "  'total_ingredientes': 8},\n",
       " {'titulo': 'Salada Caesar',\n",
       "  'tempo_preparo': '25 minutos',\n",
       "  'porcoes': 4,\n",
       "  'total_ingredientes': 8},\n",
       " {'titulo': 'Risoto de Camarão',\n",
       "  'tempo_preparo': '40 minutos',\n",
       "  'porcoes': 4,\n",
       "  'total_ingredientes': 8}]"
      ]
     },
     "execution_count": 6,
     "metadata": {},
     "output_type": "execute_result"
    }
   ],
   "source": [
    "receitas_expandidas"
   ]
  },
  {
   "cell_type": "code",
   "execution_count": 7,
   "id": "4b885971",
   "metadata": {},
   "outputs": [
    {
     "data": {
      "text/html": [
       "<div>\n",
       "<style scoped>\n",
       "    .dataframe tbody tr th:only-of-type {\n",
       "        vertical-align: middle;\n",
       "    }\n",
       "\n",
       "    .dataframe tbody tr th {\n",
       "        vertical-align: top;\n",
       "    }\n",
       "\n",
       "    .dataframe thead th {\n",
       "        text-align: right;\n",
       "    }\n",
       "</style>\n",
       "<table border=\"1\" class=\"dataframe\">\n",
       "  <thead>\n",
       "    <tr style=\"text-align: right;\">\n",
       "      <th></th>\n",
       "      <th>titulo</th>\n",
       "      <th>tempo_preparo</th>\n",
       "      <th>porcoes</th>\n",
       "      <th>total_ingredientes</th>\n",
       "    </tr>\n",
       "  </thead>\n",
       "  <tbody>\n",
       "    <tr>\n",
       "      <th>0</th>\n",
       "      <td>Bolo de Cenoura com Cobertura de Chocolate</td>\n",
       "      <td>1 hora</td>\n",
       "      <td>12</td>\n",
       "      <td>9</td>\n",
       "    </tr>\n",
       "    <tr>\n",
       "      <th>1</th>\n",
       "      <td>Frango Xadrez Simples</td>\n",
       "      <td>35 minutos</td>\n",
       "      <td>4</td>\n",
       "      <td>8</td>\n",
       "    </tr>\n",
       "    <tr>\n",
       "      <th>2</th>\n",
       "      <td>Pão de Queijo Mineiro</td>\n",
       "      <td>50 minutos</td>\n",
       "      <td>20</td>\n",
       "      <td>7</td>\n",
       "    </tr>\n",
       "    <tr>\n",
       "      <th>3</th>\n",
       "      <td>Lasanha à Bolonhesa</td>\n",
       "      <td>1 hora e 30 minutos</td>\n",
       "      <td>10</td>\n",
       "      <td>8</td>\n",
       "    </tr>\n",
       "    <tr>\n",
       "      <th>4</th>\n",
       "      <td>Mousse de Maracujá Rápido</td>\n",
       "      <td>15 minutos</td>\n",
       "      <td>6</td>\n",
       "      <td>3</td>\n",
       "    </tr>\n",
       "    <tr>\n",
       "      <th>5</th>\n",
       "      <td>Feijoada Completa</td>\n",
       "      <td>3 horas</td>\n",
       "      <td>15</td>\n",
       "      <td>8</td>\n",
       "    </tr>\n",
       "    <tr>\n",
       "      <th>6</th>\n",
       "      <td>Salada Caesar</td>\n",
       "      <td>25 minutos</td>\n",
       "      <td>4</td>\n",
       "      <td>8</td>\n",
       "    </tr>\n",
       "    <tr>\n",
       "      <th>7</th>\n",
       "      <td>Risoto de Camarão</td>\n",
       "      <td>40 minutos</td>\n",
       "      <td>4</td>\n",
       "      <td>8</td>\n",
       "    </tr>\n",
       "  </tbody>\n",
       "</table>\n",
       "</div>"
      ],
      "text/plain": [
       "                                       titulo        tempo_preparo  porcoes  \\\n",
       "0  Bolo de Cenoura com Cobertura de Chocolate               1 hora       12   \n",
       "1                       Frango Xadrez Simples           35 minutos        4   \n",
       "2                       Pão de Queijo Mineiro           50 minutos       20   \n",
       "3                         Lasanha à Bolonhesa  1 hora e 30 minutos       10   \n",
       "4                   Mousse de Maracujá Rápido           15 minutos        6   \n",
       "5                           Feijoada Completa              3 horas       15   \n",
       "6                               Salada Caesar           25 minutos        4   \n",
       "7                           Risoto de Camarão           40 minutos        4   \n",
       "\n",
       "   total_ingredientes  \n",
       "0                   9  \n",
       "1                   8  \n",
       "2                   7  \n",
       "3                   8  \n",
       "4                   3  \n",
       "5                   8  \n",
       "6                   8  \n",
       "7                   8  "
      ]
     },
     "execution_count": 7,
     "metadata": {},
     "output_type": "execute_result"
    }
   ],
   "source": [
    "df_expandido = pd.DataFrame(receitas_expandidas)\n",
    "df_expandido"
   ]
  },
  {
   "cell_type": "code",
   "execution_count": null,
   "id": "4a8b82c9",
   "metadata": {},
   "outputs": [],
   "source": []
  }
 ],
 "metadata": {
  "kernelspec": {
   "display_name": "numpy-curso-ztycTs4e-py3.13",
   "language": "python",
   "name": "python3"
  },
  "language_info": {
   "codemirror_mode": {
    "name": "ipython",
    "version": 3
   },
   "file_extension": ".py",
   "mimetype": "text/x-python",
   "name": "python",
   "nbconvert_exporter": "python",
   "pygments_lexer": "ipython3",
   "version": "3.13.5"
  }
 },
 "nbformat": 4,
 "nbformat_minor": 5
}
