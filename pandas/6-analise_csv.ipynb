{
 "cells": [
  {
   "cell_type": "code",
   "execution_count": 17,
   "id": "7ee6a0f5",
   "metadata": {},
   "outputs": [],
   "source": [
    "import pandas as pd"
   ]
  },
  {
   "cell_type": "code",
   "execution_count": 18,
   "id": "e9b5c160",
   "metadata": {},
   "outputs": [
    {
     "data": {
      "text/html": [
       "<div>\n",
       "<style scoped>\n",
       "    .dataframe tbody tr th:only-of-type {\n",
       "        vertical-align: middle;\n",
       "    }\n",
       "\n",
       "    .dataframe tbody tr th {\n",
       "        vertical-align: top;\n",
       "    }\n",
       "\n",
       "    .dataframe thead th {\n",
       "        text-align: right;\n",
       "    }\n",
       "</style>\n",
       "<table border=\"1\" class=\"dataframe\">\n",
       "  <thead>\n",
       "    <tr style=\"text-align: right;\">\n",
       "      <th></th>\n",
       "      <th>Produto</th>\n",
       "      <th>Categoria</th>\n",
       "      <th>Preço</th>\n",
       "      <th>Quantidade</th>\n",
       "      <th>Data_Venda</th>\n",
       "    </tr>\n",
       "  </thead>\n",
       "  <tbody>\n",
       "    <tr>\n",
       "      <th>0</th>\n",
       "      <td>Camisa</td>\n",
       "      <td>Roupas</td>\n",
       "      <td>50.0</td>\n",
       "      <td>10</td>\n",
       "      <td>2023-01-01</td>\n",
       "    </tr>\n",
       "    <tr>\n",
       "      <th>1</th>\n",
       "      <td>Calça</td>\n",
       "      <td>Roupas</td>\n",
       "      <td>100.0</td>\n",
       "      <td>15</td>\n",
       "      <td>2023-01-02</td>\n",
       "    </tr>\n",
       "    <tr>\n",
       "      <th>2</th>\n",
       "      <td>Saia</td>\n",
       "      <td>Roupas</td>\n",
       "      <td>80.0</td>\n",
       "      <td>20</td>\n",
       "      <td>2023-01-03</td>\n",
       "    </tr>\n",
       "    <tr>\n",
       "      <th>3</th>\n",
       "      <td>Camiseta</td>\n",
       "      <td>Roupas</td>\n",
       "      <td>45.0</td>\n",
       "      <td>30</td>\n",
       "      <td>2023-01-04</td>\n",
       "    </tr>\n",
       "    <tr>\n",
       "      <th>4</th>\n",
       "      <td>Jaqueta</td>\n",
       "      <td>Roupas</td>\n",
       "      <td>120.0</td>\n",
       "      <td>5</td>\n",
       "      <td>2023-01-05</td>\n",
       "    </tr>\n",
       "    <tr>\n",
       "      <th>5</th>\n",
       "      <td>Vestido</td>\n",
       "      <td>Roupas</td>\n",
       "      <td>90.0</td>\n",
       "      <td>12</td>\n",
       "      <td>2023-01-06</td>\n",
       "    </tr>\n",
       "    <tr>\n",
       "      <th>6</th>\n",
       "      <td>Bermuda</td>\n",
       "      <td>Roupas</td>\n",
       "      <td>60.0</td>\n",
       "      <td>18</td>\n",
       "      <td>2023-01-07</td>\n",
       "    </tr>\n",
       "    <tr>\n",
       "      <th>7</th>\n",
       "      <td>Sapato</td>\n",
       "      <td>Calçados</td>\n",
       "      <td>150.0</td>\n",
       "      <td>7</td>\n",
       "      <td>2023-01-08</td>\n",
       "    </tr>\n",
       "    <tr>\n",
       "      <th>8</th>\n",
       "      <td>Sandália</td>\n",
       "      <td>Calçados</td>\n",
       "      <td>70.0</td>\n",
       "      <td>25</td>\n",
       "      <td>2023-01-09</td>\n",
       "    </tr>\n",
       "    <tr>\n",
       "      <th>9</th>\n",
       "      <td>Tênis</td>\n",
       "      <td>Calçados</td>\n",
       "      <td>200.0</td>\n",
       "      <td>8</td>\n",
       "      <td>2023-01-10</td>\n",
       "    </tr>\n",
       "    <tr>\n",
       "      <th>10</th>\n",
       "      <td>Botas</td>\n",
       "      <td>Calçados</td>\n",
       "      <td>180.0</td>\n",
       "      <td>6</td>\n",
       "      <td>2023-01-11</td>\n",
       "    </tr>\n",
       "    <tr>\n",
       "      <th>11</th>\n",
       "      <td>Mochila</td>\n",
       "      <td>Acessórios</td>\n",
       "      <td>70.0</td>\n",
       "      <td>15</td>\n",
       "      <td>2023-01-12</td>\n",
       "    </tr>\n",
       "    <tr>\n",
       "      <th>12</th>\n",
       "      <td>Cinto</td>\n",
       "      <td>Acessórios</td>\n",
       "      <td>40.0</td>\n",
       "      <td>22</td>\n",
       "      <td>2023-01-13</td>\n",
       "    </tr>\n",
       "    <tr>\n",
       "      <th>13</th>\n",
       "      <td>Óculos</td>\n",
       "      <td>Acessórios</td>\n",
       "      <td>120.0</td>\n",
       "      <td>10</td>\n",
       "      <td>2023-01-14</td>\n",
       "    </tr>\n",
       "    <tr>\n",
       "      <th>14</th>\n",
       "      <td>Relógio</td>\n",
       "      <td>Acessórios</td>\n",
       "      <td>250.0</td>\n",
       "      <td>4</td>\n",
       "      <td>2023-01-15</td>\n",
       "    </tr>\n",
       "    <tr>\n",
       "      <th>15</th>\n",
       "      <td>Brinco</td>\n",
       "      <td>Acessórios</td>\n",
       "      <td>35.0</td>\n",
       "      <td>30</td>\n",
       "      <td>2023-01-16</td>\n",
       "    </tr>\n",
       "    <tr>\n",
       "      <th>16</th>\n",
       "      <td>Blusa</td>\n",
       "      <td>Roupas</td>\n",
       "      <td>55.0</td>\n",
       "      <td>14</td>\n",
       "      <td>2023-01-17</td>\n",
       "    </tr>\n",
       "    <tr>\n",
       "      <th>17</th>\n",
       "      <td>Shorts</td>\n",
       "      <td>Roupas</td>\n",
       "      <td>65.0</td>\n",
       "      <td>19</td>\n",
       "      <td>2023-01-18</td>\n",
       "    </tr>\n",
       "    <tr>\n",
       "      <th>18</th>\n",
       "      <td>Suéter</td>\n",
       "      <td>Roupas</td>\n",
       "      <td>95.0</td>\n",
       "      <td>9</td>\n",
       "      <td>2023-01-19</td>\n",
       "    </tr>\n",
       "    <tr>\n",
       "      <th>19</th>\n",
       "      <td>Saia longa</td>\n",
       "      <td>Roupas</td>\n",
       "      <td>75.0</td>\n",
       "      <td>11</td>\n",
       "      <td>2023-01-20</td>\n",
       "    </tr>\n",
       "  </tbody>\n",
       "</table>\n",
       "</div>"
      ],
      "text/plain": [
       "       Produto   Categoria  Preço  Quantidade  Data_Venda\n",
       "0       Camisa      Roupas   50.0          10  2023-01-01\n",
       "1        Calça      Roupas  100.0          15  2023-01-02\n",
       "2         Saia      Roupas   80.0          20  2023-01-03\n",
       "3     Camiseta      Roupas   45.0          30  2023-01-04\n",
       "4      Jaqueta      Roupas  120.0           5  2023-01-05\n",
       "5      Vestido      Roupas   90.0          12  2023-01-06\n",
       "6      Bermuda      Roupas   60.0          18  2023-01-07\n",
       "7       Sapato    Calçados  150.0           7  2023-01-08\n",
       "8     Sandália    Calçados   70.0          25  2023-01-09\n",
       "9        Tênis    Calçados  200.0           8  2023-01-10\n",
       "10       Botas    Calçados  180.0           6  2023-01-11\n",
       "11     Mochila  Acessórios   70.0          15  2023-01-12\n",
       "12       Cinto  Acessórios   40.0          22  2023-01-13\n",
       "13      Óculos  Acessórios  120.0          10  2023-01-14\n",
       "14     Relógio  Acessórios  250.0           4  2023-01-15\n",
       "15      Brinco  Acessórios   35.0          30  2023-01-16\n",
       "16       Blusa      Roupas   55.0          14  2023-01-17\n",
       "17      Shorts      Roupas   65.0          19  2023-01-18\n",
       "18      Suéter      Roupas   95.0           9  2023-01-19\n",
       "19  Saia longa      Roupas   75.0          11  2023-01-20"
      ]
     },
     "execution_count": 18,
     "metadata": {},
     "output_type": "execute_result"
    }
   ],
   "source": [
    "df_produtos = pd.read_csv('../dados/produtos.csv')\n",
    "df_produtos"
   ]
  },
  {
   "cell_type": "code",
   "execution_count": 19,
   "id": "141e2506",
   "metadata": {},
   "outputs": [
    {
     "data": {
      "text/plain": [
       "Produto        object\n",
       "Categoria      object\n",
       "Preço         float64\n",
       "Quantidade      int64\n",
       "Data_Venda     object\n",
       "dtype: object"
      ]
     },
     "execution_count": 19,
     "metadata": {},
     "output_type": "execute_result"
    }
   ],
   "source": [
    "df_produtos.dtypes"
   ]
  },
  {
   "cell_type": "code",
   "execution_count": 20,
   "id": "c5b53d77",
   "metadata": {},
   "outputs": [],
   "source": [
    "df_produtos['Quantidade'] = pd.to_numeric(df_produtos['Quantidade'])\n",
    "df_produtos['Preço'] = pd.to_numeric(df_produtos['Preço'])"
   ]
  },
  {
   "cell_type": "code",
   "execution_count": 21,
   "id": "d7a8a1d7",
   "metadata": {},
   "outputs": [
    {
     "data": {
      "text/plain": [
       "Categoria\n",
       "Acessórios     81\n",
       "Calçados       46\n",
       "Roupas        163\n",
       "Name: Quantidade, dtype: int64"
      ]
     },
     "execution_count": 21,
     "metadata": {},
     "output_type": "execute_result"
    }
   ],
   "source": [
    "# 1 - Desempenho de vendas por categoria\n",
    "vendas_categoria = df_produtos.groupby('Categoria')['Quantidade'].sum()\n",
    "vendas_categoria"
   ]
  },
  {
   "cell_type": "code",
   "execution_count": 22,
   "id": "2eef0df8",
   "metadata": {},
   "outputs": [
    {
     "data": {
      "text/plain": [
       "'Brinco'"
      ]
     },
     "execution_count": 22,
     "metadata": {},
     "output_type": "execute_result"
    }
   ],
   "source": [
    "# 2 - Produto mais vendido\n",
    "produto_mais_vendido = df_produtos.groupby('Produto')['Quantidade'].sum().idxmax()\n",
    "produto_mais_vendido"
   ]
  },
  {
   "cell_type": "code",
   "execution_count": 23,
   "id": "e50cbf77",
   "metadata": {},
   "outputs": [
    {
     "data": {
      "text/plain": [
       "Produto\n",
       "Bermuda       18\n",
       "Blusa         14\n",
       "Botas          6\n",
       "Brinco        30\n",
       "Calça         15\n",
       "Camisa        10\n",
       "Camiseta      30\n",
       "Cinto         22\n",
       "Jaqueta        5\n",
       "Mochila       15\n",
       "Relógio        4\n",
       "Saia          20\n",
       "Saia longa    11\n",
       "Sandália      25\n",
       "Sapato         7\n",
       "Shorts        19\n",
       "Suéter         9\n",
       "Tênis          8\n",
       "Vestido       12\n",
       "Óculos        10\n",
       "Name: Quantidade, dtype: int64"
      ]
     },
     "execution_count": 23,
     "metadata": {},
     "output_type": "execute_result"
    }
   ],
   "source": [
    "# 3 Total de unidades vendidas pro Produto\n",
    "produto_mais_vendido = df_produtos.groupby('Produto')['Quantidade'].sum()\n",
    "produto_mais_vendido"
   ]
  },
  {
   "cell_type": "code",
   "execution_count": 24,
   "id": "66697922",
   "metadata": {},
   "outputs": [
    {
     "data": {
      "text/plain": [
       "Produto\n",
       "Bermuda        60.0\n",
       "Blusa          55.0\n",
       "Botas         180.0\n",
       "Brinco         35.0\n",
       "Calça         100.0\n",
       "Camisa         50.0\n",
       "Camiseta       45.0\n",
       "Cinto          40.0\n",
       "Jaqueta       120.0\n",
       "Mochila        70.0\n",
       "Relógio       250.0\n",
       "Saia           80.0\n",
       "Saia longa     75.0\n",
       "Sandália       70.0\n",
       "Sapato        150.0\n",
       "Shorts         65.0\n",
       "Suéter         95.0\n",
       "Tênis         200.0\n",
       "Vestido        90.0\n",
       "Óculos        120.0\n",
       "Name: Preço, dtype: float64"
      ]
     },
     "execution_count": 24,
     "metadata": {},
     "output_type": "execute_result"
    }
   ],
   "source": [
    "# 4 - Preço médio por Produto\n",
    "media_preco_produto = df_produtos.groupby('Produto')['Preço'].mean()\n",
    "media_preco_produto"
   ]
  },
  {
   "cell_type": "code",
   "execution_count": 25,
   "id": "48cf8e69",
   "metadata": {},
   "outputs": [
    {
     "data": {
      "text/plain": [
       "np.float64(-0.7228821786680254)"
      ]
     },
     "execution_count": 25,
     "metadata": {},
     "output_type": "execute_result"
    }
   ],
   "source": [
    "# 5 - Correlação entre unidades vendidas e preço unitário\n",
    "correlacao = df_produtos['Quantidade'].corr(df_produtos['Preço'])\n",
    "correlacao"
   ]
  },
  {
   "cell_type": "code",
   "execution_count": 26,
   "id": "c613aebf",
   "metadata": {},
   "outputs": [
    {
     "data": {
      "text/html": [
       "<div>\n",
       "<style scoped>\n",
       "    .dataframe tbody tr th:only-of-type {\n",
       "        vertical-align: middle;\n",
       "    }\n",
       "\n",
       "    .dataframe tbody tr th {\n",
       "        vertical-align: top;\n",
       "    }\n",
       "\n",
       "    .dataframe thead th {\n",
       "        text-align: right;\n",
       "    }\n",
       "</style>\n",
       "<table border=\"1\" class=\"dataframe\">\n",
       "  <thead>\n",
       "    <tr style=\"text-align: right;\">\n",
       "      <th></th>\n",
       "      <th>Categoria</th>\n",
       "      <th>UnidadesVendidas</th>\n",
       "    </tr>\n",
       "  </thead>\n",
       "  <tbody>\n",
       "    <tr>\n",
       "      <th>0</th>\n",
       "      <td>Acessórios</td>\n",
       "      <td>81</td>\n",
       "    </tr>\n",
       "    <tr>\n",
       "      <th>1</th>\n",
       "      <td>Calçados</td>\n",
       "      <td>46</td>\n",
       "    </tr>\n",
       "    <tr>\n",
       "      <th>2</th>\n",
       "      <td>Roupas</td>\n",
       "      <td>163</td>\n",
       "    </tr>\n",
       "  </tbody>\n",
       "</table>\n",
       "</div>"
      ],
      "text/plain": [
       "    Categoria  UnidadesVendidas\n",
       "0  Acessórios                81\n",
       "1    Calçados                46\n",
       "2      Roupas               163"
      ]
     },
     "execution_count": 26,
     "metadata": {},
     "output_type": "execute_result"
    }
   ],
   "source": [
    "vendas_categoria_df = vendas_categoria.reset_index()\n",
    "vendas_categoria_df.columns = ['Categoria', 'UnidadesVendidas']\n",
    "vendas_categoria_df"
   ]
  },
  {
   "cell_type": "code",
   "execution_count": 27,
   "id": "52bee8e3",
   "metadata": {},
   "outputs": [],
   "source": [
    "vendas_categori_df.to_csv(\"../dados/vendas_categoria.csv\")"
   ]
  }
 ],
 "metadata": {
  "kernelspec": {
   "display_name": "numpy-curso-ztycTs4e-py3.13",
   "language": "python",
   "name": "python3"
  },
  "language_info": {
   "codemirror_mode": {
    "name": "ipython",
    "version": 3
   },
   "file_extension": ".py",
   "mimetype": "text/x-python",
   "name": "python",
   "nbconvert_exporter": "python",
   "pygments_lexer": "ipython3",
   "version": "3.13.5"
  }
 },
 "nbformat": 4,
 "nbformat_minor": 5
}
