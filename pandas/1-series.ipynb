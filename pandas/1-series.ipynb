{
 "cells": [
  {
   "cell_type": "code",
   "execution_count": 1,
   "id": "5bd83cff",
   "metadata": {},
   "outputs": [],
   "source": [
    "import pandas as pd"
   ]
  },
  {
   "cell_type": "code",
   "execution_count": 2,
   "id": "7dcb9631",
   "metadata": {},
   "outputs": [
    {
     "data": {
      "text/plain": [
       "0    10\n",
       "1    20\n",
       "2    30\n",
       "3    40\n",
       "4    50\n",
       "dtype: int64"
      ]
     },
     "execution_count": 2,
     "metadata": {},
     "output_type": "execute_result"
    }
   ],
   "source": [
    "dados = [10,20,30,40,50]\n",
    "serie = pd.Series(dados)\n",
    "serie"
   ]
  },
  {
   "cell_type": "code",
   "execution_count": 3,
   "id": "ddc5a57f",
   "metadata": {},
   "outputs": [
    {
     "data": {
      "text/plain": [
       "pandas.core.series.Series"
      ]
     },
     "execution_count": 3,
     "metadata": {},
     "output_type": "execute_result"
    }
   ],
   "source": [
    "type(serie)"
   ]
  },
  {
   "cell_type": "code",
   "execution_count": 4,
   "id": "e658e549",
   "metadata": {},
   "outputs": [],
   "source": [
    "# Criando uma Series com dados de vendas mensais\n",
    "vendas_mensais = pd.Series(\n",
    "    [2005,1745,2500,3000,2800,3500,4000,5500,4897, 9900,5666,7854],\n",
    "    index=['Jan','Fev','Mar','Abr','Mai','Jun','Jul','Ago','Set','Out','Nov','Dez'] \n",
    ")"
   ]
  },
  {
   "cell_type": "code",
   "execution_count": 5,
   "id": "dc4ad134",
   "metadata": {},
   "outputs": [
    {
     "data": {
      "text/plain": [
       "Jan    2005\n",
       "Fev    1745\n",
       "Mar    2500\n",
       "Abr    3000\n",
       "Mai    2800\n",
       "Jun    3500\n",
       "Jul    4000\n",
       "Ago    5500\n",
       "Set    4897\n",
       "Out    9900\n",
       "Nov    5666\n",
       "Dez    7854\n",
       "dtype: int64"
      ]
     },
     "execution_count": 5,
     "metadata": {},
     "output_type": "execute_result"
    }
   ],
   "source": [
    "vendas_mensais"
   ]
  },
  {
   "cell_type": "code",
   "execution_count": 6,
   "id": "728630d4",
   "metadata": {},
   "outputs": [
    {
     "data": {
      "text/plain": [
       "np.float64(4447.25)"
      ]
     },
     "execution_count": 6,
     "metadata": {},
     "output_type": "execute_result"
    }
   ],
   "source": [
    "# Calculando e exibir a média de vendas\n",
    "media_vendas = vendas_mensais.mean()\n",
    "media_vendas"
   ]
  },
  {
   "cell_type": "code",
   "execution_count": null,
   "id": "c94fee0f",
   "metadata": {},
   "outputs": [
    {
     "data": {
      "text/plain": [
       "'Out'"
      ]
     },
     "execution_count": 8,
     "metadata": {},
     "output_type": "execute_result"
    }
   ],
   "source": [
    "# Identificando o mes com maior venda\n",
    "mes_maior_vendas = vendas_mensais.idxmax()\n",
    "mes_maior_vendas"
   ]
  },
  {
   "cell_type": "code",
   "execution_count": 10,
   "id": "b0d204f5",
   "metadata": {},
   "outputs": [
    {
     "data": {
      "text/plain": [
       "Ago    5500\n",
       "Set    4897\n",
       "Out    9900\n",
       "Nov    5666\n",
       "Dez    7854\n",
       "dtype: int64"
      ]
     },
     "execution_count": 10,
     "metadata": {},
     "output_type": "execute_result"
    }
   ],
   "source": [
    "# Exibir as vendas acima da média\n",
    "vendas_acima_media = vendas_mensais[vendas_mensais > media_vendas]\n",
    "vendas_acima_media"
   ]
  }
 ],
 "metadata": {
  "kernelspec": {
   "display_name": "numpy-curso-ztycTs4e-py3.13",
   "language": "python",
   "name": "python3"
  },
  "language_info": {
   "codemirror_mode": {
    "name": "ipython",
    "version": 3
   },
   "file_extension": ".py",
   "mimetype": "text/x-python",
   "name": "python",
   "nbconvert_exporter": "python",
   "pygments_lexer": "ipython3",
   "version": "3.13.5"
  }
 },
 "nbformat": 4,
 "nbformat_minor": 5
}
