{
 "cells": [
  {
   "cell_type": "code",
   "execution_count": 1,
   "id": "ede910e9",
   "metadata": {},
   "outputs": [],
   "source": [
    "import numpy as np"
   ]
  },
  {
   "cell_type": "code",
   "execution_count": 3,
   "id": "3882cffa",
   "metadata": {},
   "outputs": [],
   "source": [
    "array1 = np.array([1,2,3])\n",
    "array2 = np.array([9,8,7])"
   ]
  },
  {
   "cell_type": "code",
   "execution_count": 5,
   "id": "59248a6b",
   "metadata": {},
   "outputs": [
    {
     "data": {
      "text/plain": [
       "array([1, 2, 3, 9, 8, 7])"
      ]
     },
     "execution_count": 5,
     "metadata": {},
     "output_type": "execute_result"
    }
   ],
   "source": [
    "# Concatenando arrays\n",
    "novo_array = np.concatenate((array1, array2))\n",
    "novo_array"
   ]
  },
  {
   "cell_type": "code",
   "execution_count": 6,
   "id": "2f7841c9",
   "metadata": {},
   "outputs": [],
   "source": [
    "# Criando arrays para nomes e notas\n",
    "nomes = np.array([\"Alice\", \"Marcelo\", \"Maquerle\"])\n",
    "notas = np.array([99,55,66])\n",
    "notas_fisica = np.array([88,44,22])"
   ]
  },
  {
   "cell_type": "code",
   "execution_count": 7,
   "id": "a87a600b",
   "metadata": {},
   "outputs": [
    {
     "data": {
      "text/plain": [
       "array([['Alice', 'Marcelo', 'Maquerle'],\n",
       "       ['99', '55', '66'],\n",
       "       ['88', '44', '22']], dtype='<U21')"
      ]
     },
     "execution_count": 7,
     "metadata": {},
     "output_type": "execute_result"
    }
   ],
   "source": [
    "# Usando np.vstack para empilhar verticalmente os dados\n",
    "dados_estudantes = np.vstack((nomes,notas,notas_fisica))\n",
    "dados_estudantes"
   ]
  },
  {
   "cell_type": "code",
   "execution_count": 8,
   "id": "affd6311",
   "metadata": {},
   "outputs": [
    {
     "data": {
      "text/plain": [
       "array([[99, 88],\n",
       "       [55, 44],\n",
       "       [66, 22]])"
      ]
     },
     "execution_count": 8,
     "metadata": {},
     "output_type": "execute_result"
    }
   ],
   "source": [
    "# Usando np.hstack para empilhar horizontalmente\n",
    "matriz_notas = np.column_stack((notas,notas_fisica))\n",
    "matriz_notas"
   ]
  },
  {
   "cell_type": "code",
   "execution_count": 9,
   "id": "260854bf",
   "metadata": {},
   "outputs": [
    {
     "data": {
      "text/plain": [
       "array([[99. , 88. , 93.5],\n",
       "       [55. , 44. , 49.5],\n",
       "       [66. , 22. , 44. ]])"
      ]
     },
     "execution_count": 9,
     "metadata": {},
     "output_type": "execute_result"
    }
   ],
   "source": [
    "#Adicionando uma nova coluna com a media das notas\n",
    "media_notas = np.mean(matriz_notas, axis=1)\n",
    "matriz_final = np.column_stack((matriz_notas, media_notas))\n",
    "matriz_final"
   ]
  }
 ],
 "metadata": {
  "kernelspec": {
   "display_name": "numpy-curso-ztycTs4e-py3.13",
   "language": "python",
   "name": "python3"
  },
  "language_info": {
   "codemirror_mode": {
    "name": "ipython",
    "version": 3
   },
   "file_extension": ".py",
   "mimetype": "text/x-python",
   "name": "python",
   "nbconvert_exporter": "python",
   "pygments_lexer": "ipython3",
   "version": "3.13.5"
  }
 },
 "nbformat": 4,
 "nbformat_minor": 5
}
