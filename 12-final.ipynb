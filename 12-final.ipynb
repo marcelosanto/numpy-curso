{
 "cells": [
  {
   "cell_type": "code",
   "execution_count": 2,
   "id": "29d63ef3",
   "metadata": {},
   "outputs": [],
   "source": [
    "import numpy as np"
   ]
  },
  {
   "cell_type": "code",
   "execution_count": 5,
   "id": "e7b2f91b",
   "metadata": {},
   "outputs": [],
   "source": [
    "#Criando os dados\n",
    "nomes = np.array([\"Alice\", \"Marcelo\", \"Maquerle\", \"Gabriel\"])\n",
    "notas_matematica = np.array([55,66,77,88])\n",
    "notas_fisica = np.array([88,99,11,22])"
   ]
  },
  {
   "cell_type": "code",
   "execution_count": 6,
   "id": "ab29ddf6",
   "metadata": {},
   "outputs": [
    {
     "data": {
      "text/plain": [
       "array([71.5, 82.5, 44. , 55. ])"
      ]
     },
     "execution_count": 6,
     "metadata": {},
     "output_type": "execute_result"
    }
   ],
   "source": [
    "#Calculando as medias\n",
    "medias = np.mean(np.column_stack((notas_matematica,notas_fisica)),axis=1)\n",
    "medias"
   ]
  },
  {
   "cell_type": "code",
   "execution_count": 8,
   "id": "ef2f67a1",
   "metadata": {},
   "outputs": [
    {
     "data": {
      "text/plain": [
       "array(['Alice', 'Marcelo'], dtype='<U8')"
      ]
     },
     "execution_count": 8,
     "metadata": {},
     "output_type": "execute_result"
    }
   ],
   "source": [
    "# Identificando alunos aprovados\n",
    "alunos_aprovados = np.where(medias>60)\n",
    "nomes[alunos_aprovados]"
   ]
  },
  {
   "cell_type": "code",
   "execution_count": 9,
   "id": "c6712e40",
   "metadata": {},
   "outputs": [
    {
     "data": {
      "text/plain": [
       "array([['Alice', '55', '88', '71.5'],\n",
       "       ['Marcelo', '66', '99', '82.5'],\n",
       "       ['Maquerle', '77', '11', '44.0'],\n",
       "       ['Gabriel', '88', '22', '55.0']], dtype='<U32')"
      ]
     },
     "execution_count": 9,
     "metadata": {},
     "output_type": "execute_result"
    }
   ],
   "source": [
    "#Organizando os dados em uma tabela\n",
    "dados_tabela = np.column_stack((nomes,notas_matematica,notas_fisica,medias))\n",
    "dados_tabela"
   ]
  },
  {
   "cell_type": "code",
   "execution_count": 10,
   "id": "519e4fa2",
   "metadata": {},
   "outputs": [
    {
     "name": "stdout",
     "output_type": "stream",
     "text": [
      "Alice - Média: 71.50\n",
      "Marcelo - Média: 82.50\n"
     ]
    }
   ],
   "source": [
    "# Exibindo os alunos aprovados\n",
    "for i in alunos_aprovados[0]:\n",
    "    print(f\"{dados_tabela[i][0]} - Média: {medias[i]:.2f}\")"
   ]
  },
  {
   "cell_type": "code",
   "execution_count": 11,
   "id": "961cac41",
   "metadata": {},
   "outputs": [
    {
     "name": "stdout",
     "output_type": "stream",
     "text": [
      "Grupo 1: ['Alice' 'Marcelo']\n",
      "Grupo 2: ['Maquerle' 'Gabriel']\n"
     ]
    }
   ],
   "source": [
    "# Dividindo alunos em grupos\n",
    "grupos = np.array_split(nomes,2)\n",
    "for i,value in enumerate(grupos):\n",
    "    print(f\"Grupo {i+1}: {value}\")"
   ]
  }
 ],
 "metadata": {
  "kernelspec": {
   "display_name": "numpy-curso-ztycTs4e-py3.13",
   "language": "python",
   "name": "python3"
  },
  "language_info": {
   "codemirror_mode": {
    "name": "ipython",
    "version": 3
   },
   "file_extension": ".py",
   "mimetype": "text/x-python",
   "name": "python",
   "nbconvert_exporter": "python",
   "pygments_lexer": "ipython3",
   "version": "3.13.5"
  }
 },
 "nbformat": 4,
 "nbformat_minor": 5
}
