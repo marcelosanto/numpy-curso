{
 "cells": [
  {
   "cell_type": "code",
   "execution_count": 1,
   "id": "a8db6838",
   "metadata": {},
   "outputs": [],
   "source": [
    "import numpy as np"
   ]
  },
  {
   "cell_type": "code",
   "execution_count": 2,
   "id": "063c383f",
   "metadata": {},
   "outputs": [
    {
     "data": {
      "text/plain": [
       "array([9, 7, 8, 3, 5, 6])"
      ]
     },
     "execution_count": 2,
     "metadata": {},
     "output_type": "execute_result"
    }
   ],
   "source": [
    "array = np.array([9,7,8,3,5,6])\n",
    "array"
   ]
  },
  {
   "cell_type": "code",
   "execution_count": 3,
   "id": "118be249",
   "metadata": {},
   "outputs": [
    {
     "data": {
      "text/plain": [
       "[array([9, 7]), array([8, 3]), array([5, 6])]"
      ]
     },
     "execution_count": 3,
     "metadata": {},
     "output_type": "execute_result"
    }
   ],
   "source": [
    "array_divididos = np.split(array, 3)\n",
    "array_divididos"
   ]
  },
  {
   "cell_type": "code",
   "execution_count": 4,
   "id": "45f8193e",
   "metadata": {},
   "outputs": [
    {
     "name": "stdout",
     "output_type": "stream",
     "text": [
      "Parte 1 ->> [9 7]\n",
      "Parte 2 ->> [8 3]\n",
      "Parte 3 ->> [5 6]\n"
     ]
    }
   ],
   "source": [
    "for i, value in enumerate(array_divididos):\n",
    "    print(f\"Parte {i+1} ->> {value}\")"
   ]
  },
  {
   "cell_type": "code",
   "execution_count": 12,
   "id": "5c36b963",
   "metadata": {},
   "outputs": [
    {
     "data": {
      "text/plain": [
       "array([33, 30, 32, 28, 22, 24, 26, 32, 29, 25, 22, 21, 30, 31, 33, 35, 36,\n",
       "       22, 22, 21, 20, 25, 24, 27, 28, 29, 30, 32, 33, 31, 22, 26])"
      ]
     },
     "execution_count": 12,
     "metadata": {},
     "output_type": "execute_result"
    }
   ],
   "source": [
    "#Criand um array 1d com temperaturas diarias de um mes (30 dias)\n",
    "temperaturas = np.array([33,30,32,28,22,24,26,\n",
    "                        32,29,25,22,21,\n",
    "                        30,31,33,35,36,\n",
    "                        22,22,21,20,25,\n",
    "                        24,27,28,29,30,\n",
    "                        32,33,31,22,26])\n",
    "temperaturas"
   ]
  },
  {
   "cell_type": "code",
   "execution_count": 13,
   "id": "1fc173ee",
   "metadata": {},
   "outputs": [
    {
     "data": {
      "text/plain": [
       "[array([33, 30, 32, 28, 22, 24, 26, 32]),\n",
       " array([29, 25, 22, 21, 30, 31, 33, 35]),\n",
       " array([36, 22, 22, 21, 20, 25, 24, 27]),\n",
       " array([28, 29, 30, 32, 33, 31, 22, 26])]"
      ]
     },
     "execution_count": 13,
     "metadata": {},
     "output_type": "execute_result"
    }
   ],
   "source": [
    "# Dividindo as temperaturas em 4 semanas\n",
    "semanas = np.split(temperaturas, 4)\n",
    "semanas"
   ]
  },
  {
   "cell_type": "code",
   "execution_count": 14,
   "id": "db57d063",
   "metadata": {},
   "outputs": [
    {
     "name": "stdout",
     "output_type": "stream",
     "text": [
      "Semana 1: [33 30 32 28 22 24 26 32]\n",
      "Semana 2: [29 25 22 21 30 31 33 35]\n",
      "Semana 3: [36 22 22 21 20 25 24 27]\n",
      "Semana 4: [28 29 30 32 33 31 22 26]\n"
     ]
    }
   ],
   "source": [
    "for i,value in enumerate(semanas):\n",
    "    print(f\"Semana {i+1}: {value}\")"
   ]
  },
  {
   "cell_type": "code",
   "execution_count": 15,
   "id": "3d066b15",
   "metadata": {},
   "outputs": [
    {
     "data": {
      "text/plain": [
       "[np.float64(28.375), np.float64(28.25), np.float64(24.625), np.float64(28.875)]"
      ]
     },
     "execution_count": 15,
     "metadata": {},
     "output_type": "execute_result"
    }
   ],
   "source": [
    "medias_semanas = [np.mean(semana) for semana in semanas]\n",
    "medias_semanas"
   ]
  },
  {
   "cell_type": "code",
   "execution_count": 16,
   "id": "a86a2dd3",
   "metadata": {},
   "outputs": [
    {
     "name": "stdout",
     "output_type": "stream",
     "text": [
      "Média da semana 1: 28.38ºC\n",
      "Média da semana 2: 28.25ºC\n",
      "Média da semana 3: 24.62ºC\n",
      "Média da semana 4: 28.88ºC\n"
     ]
    }
   ],
   "source": [
    "for i,value in enumerate(medias_semanas):\n",
    "    print(f\"Média da semana {i+1}: {value:.2f}ºC\")"
   ]
  }
 ],
 "metadata": {
  "kernelspec": {
   "display_name": "numpy-curso-ztycTs4e-py3.13",
   "language": "python",
   "name": "python3"
  },
  "language_info": {
   "codemirror_mode": {
    "name": "ipython",
    "version": 3
   },
   "file_extension": ".py",
   "mimetype": "text/x-python",
   "name": "python",
   "nbconvert_exporter": "python",
   "pygments_lexer": "ipython3",
   "version": "3.13.5"
  }
 },
 "nbformat": 4,
 "nbformat_minor": 5
}
