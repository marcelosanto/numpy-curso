{
 "cells": [
  {
   "cell_type": "code",
   "execution_count": 1,
   "id": "32afa4aa",
   "metadata": {},
   "outputs": [],
   "source": [
    "import numpy as np"
   ]
  },
  {
   "cell_type": "code",
   "execution_count": 2,
   "id": "b6bd29de",
   "metadata": {},
   "outputs": [
    {
     "data": {
      "text/plain": [
       "array([[ 1,  2,  3,  5,  6],\n",
       "       [ 9,  8,  7,  5,  6],\n",
       "       [10, 13, 14, 55, 66],\n",
       "       [20, 22, 35, 64, 88]])"
      ]
     },
     "execution_count": 2,
     "metadata": {},
     "output_type": "execute_result"
    }
   ],
   "source": [
    "array = np.array([[1,2,3,5,6],\n",
    "                  [9,8,7,5,6],\n",
    "                  [10,13,14,55,66],\n",
    "                  [20,22,35,64,88]])\n",
    "\n",
    "array"
   ]
  },
  {
   "cell_type": "code",
   "execution_count": 3,
   "id": "a44ecc94",
   "metadata": {},
   "outputs": [
    {
     "data": {
      "text/plain": [
       "array([[1, 2, 3, 5, 6],\n",
       "       [9, 8, 7, 5, 6]])"
      ]
     },
     "execution_count": 3,
     "metadata": {},
     "output_type": "execute_result"
    }
   ],
   "source": [
    "# FAtiando as duas primeiras linhas\n",
    "fatianhando_linhas = array[0:2,:]\n",
    "fatianhando_linhas"
   ]
  },
  {
   "cell_type": "code",
   "execution_count": 5,
   "id": "1f384147",
   "metadata": {},
   "outputs": [
    {
     "data": {
      "text/plain": [
       "array([[ 1,  2,  3],\n",
       "       [ 9,  8,  7],\n",
       "       [10, 13, 14],\n",
       "       [20, 22, 35]])"
      ]
     },
     "execution_count": 5,
     "metadata": {},
     "output_type": "execute_result"
    }
   ],
   "source": [
    "# Fatiando as tres primeiras colunas\n",
    "fatianhando_colunas = array[:,0:3]\n",
    "fatianhando_colunas"
   ]
  },
  {
   "cell_type": "code",
   "execution_count": 6,
   "id": "09d2a1ab",
   "metadata": {},
   "outputs": [
    {
     "data": {
      "text/plain": [
       "array([[ 8,  7],\n",
       "       [13, 14]])"
      ]
     },
     "execution_count": 6,
     "metadata": {},
     "output_type": "execute_result"
    }
   ],
   "source": [
    "subarray_central = array[1:3, 1:3]\n",
    "subarray_central"
   ]
  },
  {
   "cell_type": "code",
   "execution_count": 7,
   "id": "505cc7ff",
   "metadata": {},
   "outputs": [
    {
     "data": {
      "text/plain": [
       "array([[55, 66],\n",
       "       [64, 88]])"
      ]
     },
     "execution_count": 7,
     "metadata": {},
     "output_type": "execute_result"
    }
   ],
   "source": [
    "subarray_lateral = array[2:4, 3:5]\n",
    "subarray_lateral"
   ]
  },
  {
   "cell_type": "code",
   "execution_count": 8,
   "id": "d2bb514b",
   "metadata": {},
   "outputs": [
    {
     "data": {
      "text/plain": [
       "array([[  1,   2,   3,   5,   6],\n",
       "       [  9,  99, 100,   5,   6],\n",
       "       [ 10, 101, 102,  55,  66],\n",
       "       [ 20,  22,  35,  64,  88]])"
      ]
     },
     "execution_count": 8,
     "metadata": {},
     "output_type": "execute_result"
    }
   ],
   "source": [
    "# Modificar um subarray\n",
    "array[1:3, 1:3] = [[99,100], [101,102]]\n",
    "array"
   ]
  },
  {
   "cell_type": "code",
   "execution_count": null,
   "id": "0b15dfdf",
   "metadata": {},
   "outputs": [],
   "source": []
  }
 ],
 "metadata": {
  "kernelspec": {
   "display_name": "numpy-curso-ztycTs4e-py3.13",
   "language": "python",
   "name": "python3"
  },
  "language_info": {
   "codemirror_mode": {
    "name": "ipython",
    "version": 3
   },
   "file_extension": ".py",
   "mimetype": "text/x-python",
   "name": "python",
   "nbconvert_exporter": "python",
   "pygments_lexer": "ipython3",
   "version": "3.13.5"
  }
 },
 "nbformat": 4,
 "nbformat_minor": 5
}
