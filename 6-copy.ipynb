{
 "cells": [
  {
   "cell_type": "markdown",
   "id": "321e104b",
   "metadata": {},
   "source": [
    "Copy\n",
    "* Uma nova copia do array é criada em memoria, significando que as duas matrizes são independentes."
   ]
  },
  {
   "cell_type": "markdown",
   "id": "00f33319",
   "metadata": {},
   "source": [
    "View\n",
    "- Não é criada uma nova copy na memoria, a view compartilha os mesmos dados que o array original."
   ]
  },
  {
   "cell_type": "code",
   "execution_count": 2,
   "id": "45a3b300",
   "metadata": {},
   "outputs": [],
   "source": [
    "import numpy as np"
   ]
  },
  {
   "cell_type": "code",
   "execution_count": 3,
   "id": "016e1b76",
   "metadata": {},
   "outputs": [
    {
     "data": {
      "text/plain": [
       "array([[1, 2, 3],\n",
       "       [4, 5, 6],\n",
       "       [7, 8, 9]])"
      ]
     },
     "execution_count": 3,
     "metadata": {},
     "output_type": "execute_result"
    }
   ],
   "source": [
    "array_original = np.array([[1,2,3],\n",
    "                           [4,5,6],\n",
    "                           [7,8,9]])\n",
    "\n",
    "array_original"
   ]
  },
  {
   "cell_type": "code",
   "execution_count": 4,
   "id": "78e016d2",
   "metadata": {},
   "outputs": [
    {
     "data": {
      "text/plain": [
       "array([[5, 6],\n",
       "       [8, 9]])"
      ]
     },
     "execution_count": 4,
     "metadata": {},
     "output_type": "execute_result"
    }
   ],
   "source": [
    "# Cópia rasa (view)\n",
    "array_view = array_original[1:,1:]\n",
    "array_view"
   ]
  },
  {
   "cell_type": "code",
   "execution_count": 5,
   "id": "44bae94b",
   "metadata": {},
   "outputs": [
    {
     "data": {
      "text/plain": [
       "array([[99,  6],\n",
       "       [ 8,  9]])"
      ]
     },
     "execution_count": 5,
     "metadata": {},
     "output_type": "execute_result"
    }
   ],
   "source": [
    "array_view[0,0] = 99\n",
    "array_view"
   ]
  },
  {
   "cell_type": "code",
   "execution_count": 6,
   "id": "1f1e72df",
   "metadata": {},
   "outputs": [
    {
     "data": {
      "text/plain": [
       "array([[ 1,  2,  3],\n",
       "       [ 4, 99,  6],\n",
       "       [ 7,  8,  9]])"
      ]
     },
     "execution_count": 6,
     "metadata": {},
     "output_type": "execute_result"
    }
   ],
   "source": [
    "array_original"
   ]
  },
  {
   "cell_type": "code",
   "execution_count": 7,
   "id": "4063ed25",
   "metadata": {},
   "outputs": [
    {
     "data": {
      "text/plain": [
       "array([[ 1,  2,  3],\n",
       "       [ 4, 99,  6],\n",
       "       [ 7,  8,  9]])"
      ]
     },
     "execution_count": 7,
     "metadata": {},
     "output_type": "execute_result"
    }
   ],
   "source": [
    "# Cópia profunda (copy)\n",
    "array_copia = array_original.copy()\n",
    "array_copia"
   ]
  },
  {
   "cell_type": "code",
   "execution_count": 8,
   "id": "92f902af",
   "metadata": {},
   "outputs": [
    {
     "data": {
      "text/plain": [
       "array([[ 1,  2,  3],\n",
       "       [ 4, 99,  6],\n",
       "       [ 7,  8,  9]])"
      ]
     },
     "execution_count": 8,
     "metadata": {},
     "output_type": "execute_result"
    }
   ],
   "source": [
    "array_copia[0,0] = 125\n",
    "array_original"
   ]
  },
  {
   "cell_type": "code",
   "execution_count": 9,
   "id": "2be45765",
   "metadata": {},
   "outputs": [
    {
     "data": {
      "text/plain": [
       "array([[125,   2,   3],\n",
       "       [  4,  99,   6],\n",
       "       [  7,   8,   9]])"
      ]
     },
     "execution_count": 9,
     "metadata": {},
     "output_type": "execute_result"
    }
   ],
   "source": [
    "array_copia"
   ]
  }
 ],
 "metadata": {
  "kernelspec": {
   "display_name": "numpy-curso-ztycTs4e-py3.13",
   "language": "python",
   "name": "python3"
  },
  "language_info": {
   "codemirror_mode": {
    "name": "ipython",
    "version": 3
   },
   "file_extension": ".py",
   "mimetype": "text/x-python",
   "name": "python",
   "nbconvert_exporter": "python",
   "pygments_lexer": "ipython3",
   "version": "3.13.5"
  }
 },
 "nbformat": 4,
 "nbformat_minor": 5
}
